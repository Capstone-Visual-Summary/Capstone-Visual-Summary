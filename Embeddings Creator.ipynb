{
 "cells": [
  {
   "cell_type": "code",
   "execution_count": 4,
   "id": "initial_id",
   "metadata": {
    "collapsed": true,
    "ExecuteTime": {
     "end_time": "2024-01-26T16:44:07.802945600Z",
     "start_time": "2024-01-26T16:44:07.300258200Z"
    }
   },
   "outputs": [],
   "source": [
    "import os.path\n",
    "from pathlib import Path\n",
    "import time\n",
    "from tqdm import tqdm\n",
    "import csv\n",
    "from PIL import Image\n",
    "import math\n",
    "import torch\n",
    "import ast\n",
    "\n",
    "from Embedding_Classes import EmbeddingResNet\n",
    "from Database_Classes import DatabaseGeopandasPolygons\n",
    "\n",
    "import warnings\n",
    "\n",
    "import torch\n",
    "import torch.nn as nn\n",
    "import torch.nn.functional as F\n",
    "from torch.utils.data import DataLoader\n",
    "from torchvision import models, transforms\n",
    "from torch.utils.data import Dataset\n",
    "import os\n",
    "import matplotlib.pyplot as plt\n",
    "import pandas as pd \n",
    "import torch.optim as optim\n",
    "import ast\n",
    "import csv\n",
    "import time\n",
    "from tqdm import tqdm\n",
    "from tabulate import tabulate\n",
    "\n",
    "# Filter out UserWarnings\n",
    "warnings.filterwarnings(\"ignore\", category=UserWarning)"
   ]
  },
  {
   "cell_type": "code",
   "outputs": [],
   "source": [
    "device = torch.device(\"cuda\" if torch.cuda.is_available() else \"cpu\")"
   ],
   "metadata": {
    "collapsed": false,
    "ExecuteTime": {
     "end_time": "2024-01-26T16:44:28.353319700Z",
     "start_time": "2024-01-26T16:44:28.324551300Z"
    }
   },
   "id": "19f790c3958b58cf",
   "execution_count": 6
  },
  {
   "cell_type": "code",
   "outputs": [
    {
     "name": "stdout",
     "output_type": "stream",
     "text": [
      "loaded data\n"
     ]
    }
   ],
   "source": [
    "database = DatabaseGeopandasPolygons()\n",
    "\n",
    "neighbourhood_images, images, neighbourhoods = database.run()\n",
    "print('loaded data')\n",
    "embedder = EmbeddingResNet()\n",
    "\n",
    "wanted_hoods = [i for i in range(1, 2, 1)]\n",
    "image_paths = []\n",
    "embeddings = []\n",
    "# print('embedding')\n",
    "# start_time = time.time()\n",
    "\n",
    "image_ids = []\n",
    "images_to_skip = [22607, 22626, 22630, 25076, 25996, 26001, 26018]"
   ],
   "metadata": {
    "collapsed": false,
    "ExecuteTime": {
     "end_time": "2024-01-26T16:39:10.817306500Z",
     "start_time": "2024-01-26T16:38:50.283307300Z"
    }
   },
   "id": "5ce6d8b5ebf99adc",
   "execution_count": 2
  },
  {
   "cell_type": "code",
   "outputs": [
    {
     "name": "stderr",
     "output_type": "stream",
     "text": [
      "100%|██████████| 143424/143424 [00:06<00:00, 22599.53it/s]\n"
     ]
    }
   ],
   "source": [
    "for index, row in tqdm(images.iterrows(), total=len(images)):\n",
    "    if row['img_id'] in images_to_skip:\n",
    "        continue\n",
    "\n",
    "    image_ids.append(str(row['img_id_com']))\n",
    "    image_paths.append('U:/staff-umbrella/imagesummary/data/Delft_NL/imagedb/' + row['path'])"
   ],
   "metadata": {
    "collapsed": false,
    "ExecuteTime": {
     "end_time": "2024-01-26T16:40:16.328797800Z",
     "start_time": "2024-01-26T16:40:09.963624Z"
    }
   },
   "id": "195bc6182a3daf8b",
   "execution_count": 3
  },
  {
   "cell_type": "code",
   "outputs": [
    {
     "name": "stderr",
     "output_type": "stream",
     "text": [
      "100%|██████████| 60/60 [12:14<00:00, 12.24s/it]\n"
     ]
    }
   ],
   "source": [
    "version_split = str(1.0).split('.')\n",
    "version_str = f'v{version_split[0]}_{version_split[1]}'\n",
    "\n",
    "folder_path = 'C:/Users/Soulless Creature/Dropbox/WB3/Q2/Capstone Project/Repositories/Capstone-Visual-Summary/Embedding Files'\n",
    "\n",
    "files = [folder_path + '/' + f for f in os.listdir(folder_path) if version_str in f]\n",
    "files = sorted(files, key=lambda x: int(x.split('_')[3].split('_')[0]))\n",
    "\n",
    "v_1_0_embeddings = dict()\n",
    "\n",
    "for file in tqdm(files, total=len(files)):\n",
    "    with open(file, mode='r', newline='', encoding='utf-8') as csvfile:\n",
    "        temp = list(csv.DictReader(csvfile, delimiter=';'))\n",
    "\n",
    "        for row in temp:\n",
    "            v_1_0_embeddings[row['image_id']] = torch.Tensor(ast.literal_eval(row['tensor']))\n"
   ],
   "metadata": {
    "collapsed": false,
    "ExecuteTime": {
     "end_time": "2024-01-26T17:03:37.340352600Z",
     "start_time": "2024-01-26T16:51:23.219829800Z"
    }
   },
   "id": "7d7525fdd572cfbe",
   "execution_count": 11
  },
  {
   "cell_type": "code",
   "outputs": [],
   "source": [
    "class FineTuneResNet152(nn.Module):\n",
    "    def __init__(self, feature_size, output_size):\n",
    "        super(FineTuneResNet152, self).__init__()\n",
    "        # Here we only use the fully connected layers for fine-tuning\n",
    "        self.fc = nn.Linear(feature_size, output_size)\n",
    "\n",
    "    def forward(self, x):\n",
    "        # Directly use the embeddings for fine-tuning\n",
    "        x = self.fc(x)\n",
    "        return x"
   ],
   "metadata": {
    "collapsed": false,
    "ExecuteTime": {
     "end_time": "2024-01-26T16:44:11.375532300Z",
     "start_time": "2024-01-26T16:44:11.372059300Z"
    }
   },
   "id": "22e2eba72a8882a2",
   "execution_count": 5
  },
  {
   "cell_type": "code",
   "outputs": [
    {
     "data": {
      "text/plain": "<All keys matched successfully>"
     },
     "execution_count": 7,
     "metadata": {},
     "output_type": "execute_result"
    }
   ],
   "source": [
    "model = FineTuneResNet152(feature_size=2048, output_size=2048).to(device)\n",
    "model.load_state_dict(torch.load('resnet152_trained_triplet_epoch2_num_triplets20.pt'))"
   ],
   "metadata": {
    "collapsed": false,
    "ExecuteTime": {
     "end_time": "2024-01-26T16:44:53.443266900Z",
     "start_time": "2024-01-26T16:44:53.292957800Z"
    }
   },
   "id": "2d6b263cdd2ef279",
   "execution_count": 7
  },
  {
   "cell_type": "code",
   "outputs": [
    {
     "name": "stderr",
     "output_type": "stream",
     "text": [
      "100%|██████████| 5/5 [00:04<00:00,  1.03it/s]\n",
      "100%|██████████| 5/5 [00:04<00:00,  1.08it/s]\n",
      "100%|██████████| 5/5 [00:04<00:00,  1.06it/s]\n",
      "100%|██████████| 5/5 [00:04<00:00,  1.06it/s]\n",
      "100%|██████████| 5/5 [00:04<00:00,  1.08it/s]\n",
      "100%|██████████| 5/5 [00:04<00:00,  1.05it/s]\n",
      "100%|██████████| 5/5 [00:04<00:00,  1.08it/s]\n",
      "100%|██████████| 5/5 [00:04<00:00,  1.06it/s]\n",
      "100%|██████████| 5/5 [00:04<00:00,  1.08it/s]\n",
      "100%|██████████| 5/5 [00:04<00:00,  1.05it/s]\n",
      "100%|██████████| 5/5 [00:05<00:00,  1.13s/it]\n",
      "100%|██████████| 5/5 [00:05<00:00,  1.13s/it]\n",
      "100%|██████████| 5/5 [00:05<00:00,  1.11s/it]\n",
      "100%|██████████| 5/5 [00:05<00:00,  1.12s/it]\n",
      "100%|██████████| 5/5 [00:05<00:00,  1.14s/it]\n",
      "100%|██████████| 5/5 [00:05<00:00,  1.02s/it]\n",
      "100%|██████████| 5/5 [00:05<00:00,  1.08s/it]\n",
      "100%|██████████| 5/5 [00:05<00:00,  1.06s/it]\n",
      "100%|██████████| 5/5 [00:05<00:00,  1.16s/it]\n",
      "100%|██████████| 5/5 [00:05<00:00,  1.09s/it]\n",
      "100%|██████████| 5/5 [00:05<00:00,  1.01s/it]\n",
      "100%|██████████| 5/5 [00:05<00:00,  1.12s/it]\n",
      "100%|██████████| 5/5 [00:04<00:00,  1.00it/s]\n",
      "100%|██████████| 5/5 [00:09<00:00,  1.97s/it]\n",
      "100%|██████████| 5/5 [00:07<00:00,  1.46s/it]\n",
      "100%|██████████| 5/5 [00:09<00:00,  1.98s/it]\n",
      "100%|██████████| 5/5 [00:06<00:00,  1.28s/it]\n",
      "100%|██████████| 5/5 [00:05<00:00,  1.07s/it]\n",
      "100%|██████████| 5/5 [00:06<00:00,  1.20s/it]\n",
      "100%|██████████| 5/5 [00:06<00:00,  1.23s/it]\n",
      "100%|██████████| 5/5 [00:05<00:00,  1.14s/it]\n",
      "100%|██████████| 5/5 [00:05<00:00,  1.13s/it]\n",
      "100%|██████████| 5/5 [00:05<00:00,  1.20s/it]\n",
      "100%|██████████| 5/5 [00:05<00:00,  1.15s/it]\n",
      "100%|██████████| 5/5 [00:05<00:00,  1.12s/it]\n",
      "100%|██████████| 5/5 [00:05<00:00,  1.12s/it]\n",
      "100%|██████████| 5/5 [00:05<00:00,  1.09s/it]\n",
      "100%|██████████| 5/5 [00:05<00:00,  1.06s/it]\n",
      "100%|██████████| 5/5 [00:05<00:00,  1.14s/it]\n",
      "100%|██████████| 5/5 [00:05<00:00,  1.16s/it]\n",
      "100%|██████████| 5/5 [00:06<00:00,  1.21s/it]\n",
      "100%|██████████| 5/5 [00:04<00:00,  1.03it/s]\n",
      "100%|██████████| 5/5 [00:04<00:00,  1.06it/s]\n",
      "100%|██████████| 5/5 [00:04<00:00,  1.04it/s]\n",
      "100%|██████████| 5/5 [00:04<00:00,  1.06it/s]\n",
      "100%|██████████| 5/5 [00:04<00:00,  1.03it/s]\n",
      "100%|██████████| 5/5 [00:04<00:00,  1.07it/s]\n",
      "100%|██████████| 5/5 [00:04<00:00,  1.04it/s]\n",
      "100%|██████████| 5/5 [00:04<00:00,  1.05it/s]\n",
      "100%|██████████| 5/5 [00:04<00:00,  1.06it/s]\n",
      "100%|██████████| 5/5 [00:04<00:00,  1.04it/s]\n",
      "100%|██████████| 5/5 [00:05<00:00,  1.01s/it]\n",
      "100%|██████████| 5/5 [00:05<00:00,  1.02s/it]\n",
      "100%|██████████| 5/5 [00:04<00:00,  1.01it/s]\n",
      "100%|██████████| 5/5 [00:05<00:00,  1.01s/it]\n",
      "100%|██████████| 5/5 [00:04<00:00,  1.01it/s]\n",
      "100%|██████████| 5/5 [00:05<00:00,  1.02s/it]\n",
      "100%|██████████| 5/5 [00:04<00:00,  1.03it/s]\n",
      "100%|██████████| 5/5 [00:05<00:00,  1.00s/it]\n",
      "100%|██████████| 5/5 [00:04<00:00,  1.02it/s]\n"
     ]
    }
   ],
   "source": [
    "batch_size = 500\n",
    "for j in range(60):\n",
    "    # start = 100408 + j * 14344\n",
    "    # length = min(114752 + j * 14344, len(image_paths))\n",
    "    start = 0 + j * 2392\n",
    "    length = min(2392 + j * 2392, len(image_paths))\n",
    "    for i in tqdm(range(start, length, batch_size)):\n",
    "        embedder = EmbeddingResNet()\n",
    "        end_index = min(i + batch_size, length)\n",
    "        \n",
    "        embeddings_dict = dict()\n",
    "        \n",
    "        for image_id in image_ids[i:end_index]:\n",
    "            embeddings_dict[image_id] = model(v_1_0_embeddings[image_id].to('cuda'))\n",
    "    \n",
    "        # embeddings_dict = dict()\n",
    "        # \n",
    "        # counter = 0\n",
    "        # for index in range(i, end_index):\n",
    "        #     embeddings_dict[image_ids[index]] = embeddings[counter].squeeze()\n",
    "        #     counter += 1\n",
    "        \n",
    "        file_name = f'Embedding Files/Embeddings_v2_0_{start}_{length - 1}.csv'\n",
    "    \n",
    "        with open(file_name, mode='a+', newline='', encoding='utf-8') as csvfile:\n",
    "            csv_writer = csv.DictWriter(csvfile, fieldnames=['image_id', 'tensor'], delimiter=';')\n",
    "    \n",
    "            if csvfile.tell() == 0:\n",
    "                csv_writer.writeheader()\n",
    "    \n",
    "            for image_id, tensor in embeddings_dict.items():\n",
    "                csv_writer.writerow({'image_id': image_id, 'tensor': tensor.tolist()})"
   ],
   "metadata": {
    "collapsed": false,
    "ExecuteTime": {
     "end_time": "2024-01-26T17:23:53.236172Z",
     "start_time": "2024-01-26T17:18:28.860924500Z"
    }
   },
   "id": "9211317716eb2e8d",
   "execution_count": 16
  },
  {
   "cell_type": "code",
   "outputs": [
    {
     "name": "stdout",
     "output_type": "stream",
     "text": [
      "Time taken: 0.04166293144226074s\n"
     ]
    }
   ],
   "source": [
    "image_embeddings = dict()\n",
    "start_time = time.time()\n",
    "with open('Embedding Files/Embeddings_1_0_0.csv', mode='r', newline='') as csvfile:\n",
    "    temp = csv.DictReader(csvfile, delimiter=';')\n",
    "\n",
    "    for row in temp:\n",
    "        image_embeddings[row['image_id']] = torch.Tensor(ast.literal_eval(row['tensor']))\n",
    "        # image_embeddings[row['image_id']] = row['tensor']\n",
    "\n",
    "end_time = time.time()\n",
    "print(f'Time taken: {end_time - start_time}s')"
   ],
   "metadata": {
    "collapsed": false,
    "ExecuteTime": {
     "end_time": "2024-01-18T16:15:18.557830400Z",
     "start_time": "2024-01-18T16:15:18.512695700Z"
    }
   },
   "id": "c0d6b99eedc4a0b3",
   "execution_count": 7
  },
  {
   "cell_type": "code",
   "outputs": [
    {
     "name": "stdout",
     "output_type": "stream",
     "text": [
      "Read: tensor([2.1685, 0.7097, 1.0430,  ..., 0.1948, 0.8476, 0.1679])\n",
      "Write: tensor([2.1685, 0.7097, 1.0430,  ..., 0.1948, 0.8476, 0.1679])\n",
      "Read: tensor([1.9091, 0.1310, 0.3616,  ..., 0.3909, 0.0516, 0.2608])\n",
      "Write: tensor([1.9091, 0.1310, 0.3616,  ..., 0.3909, 0.0516, 0.2608])\n",
      "Read: tensor([1.5261, 0.3460, 0.6064,  ..., 0.6296, 0.3954, 0.2984])\n",
      "Write: tensor([1.5261, 0.3460, 0.6064,  ..., 0.6296, 0.3954, 0.2984])\n",
      "Read: tensor([1.2783, 0.7537, 0.7907,  ..., 0.2330, 0.6333, 0.1101])\n",
      "Write: tensor([1.2783, 0.7537, 0.7907,  ..., 0.2330, 0.6333, 0.1101])\n",
      "Read: tensor([1.3602, 0.4002, 1.6330,  ..., 0.2130, 0.5594, 0.3256])\n",
      "Write: tensor([1.3602, 0.4002, 1.6330,  ..., 0.2130, 0.5594, 0.3256])\n"
     ]
    }
   ],
   "source": [
    "for key, value in image_embeddings.items():\n",
    "    print(f'Read: {value}')\n",
    "    print(f'Write: {value}')\n",
    "    if not torch.equal(value, embeddings_dict[key]):\n",
    "        print(False)\n",
    "    "
   ],
   "metadata": {
    "collapsed": false,
    "ExecuteTime": {
     "end_time": "2024-01-18T16:19:31.239735Z",
     "start_time": "2024-01-18T16:19:31.231799600Z"
    }
   },
   "id": "1b6ae0bd790501b2",
   "execution_count": 12
  },
  {
   "cell_type": "code",
   "outputs": [],
   "source": [
    "missing_embeddings = [100408, 100409, 100410, 100411, 100412, 100413, 100414, 100415, 100416, 100417, 100418, 100419, 100420, 100421, 100422, 100423]\n",
    "missing_embeddings_path = []\n",
    "\n",
    "for missing_embedding in missing_embeddings:\n",
    "    missing_embeddings_path.append('U:/staff-umbrella/imagesummary/data/Delft_NL/imagedb/' + images.loc[(images['img_id_com'] == missing_embedding), 'path'].iloc[0])\n",
    "\n",
    "embedder = EmbeddingResNet()\n",
    "\n",
    "embeddings = embedder.run(paths=missing_embeddings_path)\n",
    "\n",
    "embeddings_dict = dict()\n",
    "\n",
    "counter = 0\n",
    "for index in range(len(missing_embeddings)):\n",
    "    embeddings_dict[missing_embeddings[index]] = embeddings[counter].squeeze()\n",
    "    counter += 1\n",
    "\n",
    "file_name = f'Embedding Files/Missing_Embeddings.csv'\n",
    "\n",
    "with open(file_name, mode='a+', newline='', encoding='utf-8') as csvfile:\n",
    "    csv_writer = csv.DictWriter(csvfile, fieldnames=['image_id', 'tensor'], delimiter=';')\n",
    "\n",
    "    if csvfile.tell() == 0:\n",
    "        csv_writer.writeheader()\n",
    "\n",
    "    for image_id, tensor in embeddings_dict.items():\n",
    "        csv_writer.writerow({'image_id': image_id, 'tensor': tensor.tolist()})"
   ],
   "metadata": {
    "collapsed": false,
    "ExecuteTime": {
     "end_time": "2024-01-20T14:54:23.193847300Z",
     "start_time": "2024-01-20T14:54:16.510019500Z"
    }
   },
   "id": "17cafc6fa32d9918",
   "execution_count": 28
  },
  {
   "cell_type": "code",
   "outputs": [
    {
     "name": "stdout",
     "output_type": "stream",
     "text": [
      "tensor([1.0861, 0.2147, 0.0970,  ..., 0.8504, 0.1070, 0.4913])\n",
      "tensor([1.7512, 0.2217, 0.6170,  ..., 0.6139, 0.0566, 0.2008])\n",
      "tensor([1.6515, 0.0395, 1.0881,  ..., 0.1610, 0.2274, 0.0518])\n"
     ]
    }
   ],
   "source": [
    "embedder = EmbeddingResNet()\n",
    "\n",
    "print(embedder.run(paths=['U:/staff-umbrella/imagesummary/data/Delft_NL/imagedb/image_25102_s_a.png'])[0].squeeze())\n",
    "print(embedder.run(paths=['U:/staff-umbrella/imagesummary/data/Delft_NL/imagedb/image_25106_s_a.png'])[0].squeeze())\n",
    "print(embedder.run(paths=['U:/staff-umbrella/imagesummary/data/Delft_NL/imagedb/image_35855_b.png'])[0].squeeze())"
   ],
   "metadata": {
    "collapsed": false,
    "ExecuteTime": {
     "end_time": "2024-01-20T14:47:11.981296100Z",
     "start_time": "2024-01-20T14:47:06.513070400Z"
    }
   },
   "id": "18f926d929ac35ae",
   "execution_count": 27
  }
 ],
 "metadata": {
  "kernelspec": {
   "display_name": "Python 3",
   "language": "python",
   "name": "python3"
  },
  "language_info": {
   "codemirror_mode": {
    "name": "ipython",
    "version": 2
   },
   "file_extension": ".py",
   "mimetype": "text/x-python",
   "name": "python",
   "nbconvert_exporter": "python",
   "pygments_lexer": "ipython2",
   "version": "2.7.6"
  }
 },
 "nbformat": 4,
 "nbformat_minor": 5
}
