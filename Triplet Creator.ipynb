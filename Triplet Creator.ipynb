{
 "cells": [
  {
   "cell_type": "code",
   "execution_count": 54,
   "metadata": {},
   "outputs": [],
   "source": [
    "import geopandas as gpd\n",
    "\n",
    "from random import randint\n",
    "from keplergl import KeplerGl\n",
    "import csv\n",
    "from tqdm import tqdm"
   ]
  },
  {
   "cell_type": "code",
   "execution_count": 2,
   "metadata": {},
   "outputs": [],
   "source": [
    "images = images = gpd.read_file('Geo-JSON Files/image_info.geojson')"
   ]
  },
  {
   "cell_type": "code",
   "execution_count": 60,
   "metadata": {},
   "outputs": [
    {
     "name": "stderr",
     "output_type": "stream",
     "text": [
      "100%|██████████| 1000/1000 [01:33<00:00, 10.66it/s]\n"
     ]
    }
   ],
   "source": [
    "with open('Triplets.csv', mode='a+', newline='', encoding='utf-8') as csvfile:\n",
    "\tcsv_writer = csv.writer(csvfile)\n",
    "\t\n",
    "\tif csvfile.tell() == 0:\n",
    "\t\tcsv_writer.writerow(['Anchor ID', 'Positive ID', 'Negative ID'])\n",
    "\t\n",
    "\tfor i in tqdm(range(1000)):\n",
    "\t\trandom_image_number = randint(0, len(images) - 1)\n",
    "\n",
    "\t\tpotential_anchor = images.iloc[random_image_number]\n",
    "\t\tpotential_anchor_frame = gpd.GeoDataFrame(geometry=[potential_anchor['geometry']])\n",
    "\t\tbuffer_distance = 0.0001 # 10m radius\n",
    "\n",
    "\t\tbuffer_polygon = potential_anchor['geometry'].buffer(buffer_distance)\n",
    "\t\tbuffer_polygon_frame = gpd.GeoDataFrame(geometry=[buffer_polygon])\n",
    "\n",
    "\t\tpotential_positives = images[images['geometry'].within(buffer_polygon) & (images['img_id'] != images.iloc[random_image_number]['img_id']) & (abs(images['year'] - images.iloc[random_image_number]['year']) <= 3) & (images['part_of_img'] == images.iloc[random_image_number]['part_of_img'])]\n",
    "\t\t\n",
    "\t\tif len(potential_positives) < 1:\n",
    "\t\t\tcontinue\n",
    "\t\t\n",
    "\t\trandom_positive_number = randint(0, len(potential_positives) - 1)\n",
    "\t\tpotential_positive = potential_positives.iloc[random_positive_number]\n",
    "\t\tpotential_positive_frame = gpd.GeoDataFrame(geometry=[potential_positive['geometry']])\n",
    "\n",
    "\t\tnegative_buffer_inner = potential_anchor['geometry'].buffer(0.0005)\n",
    "\t\tnegative_buffer_outer = potential_anchor['geometry'].buffer(0.0025)\n",
    "\n",
    "\t\tnegative_buffer_inner_frame = gpd.GeoDataFrame(geometry=[negative_buffer_inner])\n",
    "\t\tnegative_buffer_outer_frame = gpd.GeoDataFrame(geometry=[negative_buffer_outer])\n",
    "\n",
    "\t\tnegative_buffer = negative_buffer_outer.difference(negative_buffer_inner)\n",
    "\t\tnegative_buffer_frame = gpd.GeoDataFrame(geometry=[negative_buffer])\n",
    "\n",
    "\t\t# potential_negatives = images[images['geometry'].within(negative_buffer) & (images['year'] == potential_positives.iloc[random_positive_number]['year']) & (images['month'] == potential_positives.iloc[random_positive_number]['month'])]\n",
    "\t\tpotential_negatives = images[images['geometry'].within(negative_buffer) & (images['year'] == potential_positive['year']) & (images['month'] == potential_positive['month'])]\n",
    "\t\t\n",
    "\t\tif len(potential_negatives) < 1:\n",
    "\t\t\tcontinue\n",
    "\n",
    "\t\trandom_negative_number = randint(0, len(potential_negatives) - 1)\n",
    "\t\tpotential_negative = potential_negatives.iloc[random_negative_number]\n",
    "\t\tpotential_negative_frame = gpd.GeoDataFrame(geometry=[potential_negative['geometry']])\n",
    "\n",
    "\n",
    "\t\ttriplet = (potential_anchor['img_id_com'], potential_positive['img_id_com'], potential_negative['img_id_com'])\n",
    "\t\tcsv_writer.writerow(triplet)\n"
   ]
  },
  {
   "cell_type": "code",
   "execution_count": 15,
   "metadata": {},
   "outputs": [
    {
     "name": "stdout",
     "output_type": "stream",
     "text": [
      "POINT (4.351028575396204 51.9902783318869)\n",
      "POLYGON ((4.351128575396204 51.9902783318869, 4.351128093868871 51.99026853017286, 4.351126653924244 51.9902588228547, 4.351124269429777 51.990249303419176, 4.351120963349455 51.99024006354366, 4.3511167675226385 51.990231192213216, 4.351111722357434 51.9902227748636, 4.35110587644154 51.990214892558484, 4.351099286074323 51.99020762120878, 4.35109201472462 51.99020103084156, 4.351084132419506 51.99019518492567, 4.351075715069887 51.990190139760465, 4.35106684373944 51.990185943933646, 4.3510576038639295 51.99018263785332, 4.351048084428405 51.99018025335886, 4.351038377110237 51.99017881341423, 4.351028575396204 51.990178331886895, 4.351018773682171 51.99017881341423, 4.351009066364003 51.99018025335886, 4.350999546928478 51.99018263785332, 4.350990307052967 51.990185943933646, 4.350981435722521 51.990190139760465, 4.350973018372902 51.99019518492567, 4.350965136067788 51.99020103084156, 4.350957864718085 51.99020762120878, 4.350951274350868 51.990214892558484, 4.350945428434974 51.9902227748636, 4.350940383269769 51.990231192213216, 4.350936187442953 51.99024006354366, 4.350932881362631 51.990249303419176, 4.3509304968681635 51.9902588228547, 4.350929056923537 51.99026853017286, 4.350928575396204 51.9902783318869, 4.350929056923537 51.990288133600934, 4.3509304968681635 51.9902978409191, 4.350932881362631 51.99030736035462, 4.350936187442953 51.99031660023014, 4.350940383269769 51.99032547156058, 4.350945428434974 51.9903338889102, 4.350951274350868 51.99034177121531, 4.350957864718085 51.990349042565015, 4.350965136067788 51.990355632932236, 4.350973018372902 51.99036147884813, 4.350981435722521 51.99036652401333, 4.350990307052967 51.99037071984015, 4.350999546928478 51.990374025920474, 4.351009066364003 51.99037641041494, 4.351018773682171 51.990377850359565, 4.351028575396204 51.9903783318869, 4.351038377110237 51.990377850359565, 4.351048084428405 51.99037641041494, 4.3510576038639295 51.990374025920474, 4.35106684373944 51.99037071984015, 4.351075715069887 51.99036652401333, 4.351084132419506 51.99036147884813, 4.35109201472462 51.990355632932236, 4.351099286074323 51.990349042565015, 4.35110587644154 51.99034177121531, 4.351111722357434 51.9903338889102, 4.3511167675226385 51.99032547156058, 4.351120963349455 51.99031660023014, 4.351124269429777 51.99030736035462, 4.351126653924244 51.9902978409191, 4.351128093868871 51.990288133600934, 4.351128575396204 51.9902783318869))\n"
     ]
    }
   ],
   "source": [
    "random_image_number = randint(0, len(images))\n",
    "\n",
    "potential_anchor = images.iloc[random_image_number]\n",
    "potential_anchor = images.iloc[35531]['geometry']\n",
    "potential_anchor_frame = gpd.GeoDataFrame({'geometry': [potential_anchor]})\n",
    "print(potential_anchor)\n",
    "buffer_distance = 0.001 # 100m radius\n",
    "buffer_distance = 0.0001 # 10m radius\n",
    "\n",
    "buffer_polygon = potential_anchor.buffer(buffer_distance)\n",
    "buffer_polygon_frame = gpd.GeoDataFrame(geometry=[buffer_polygon])\n",
    "print(buffer_polygon)"
   ]
  },
  {
   "cell_type": "code",
   "execution_count": 45,
   "metadata": {},
   "outputs": [],
   "source": [
    "potential_positives = images[images['geometry'].within(buffer_polygon) & (images['img_id'] != images.iloc[35531]['img_id']) & (abs(images['year'] - images.iloc[35531]['year']) <= 5) & (images['part_of_img'] == images.iloc[35531]['part_of_img'])]\n",
    "random_positive_number = randint(0, len(potential_positives))\n",
    "potential_positive = potential_positives.iloc[random_positive_number]\n",
    "potential_positive = potential_positives.iloc[2]['geometry']"
   ]
  },
  {
   "cell_type": "code",
   "execution_count": 46,
   "metadata": {},
   "outputs": [],
   "source": [
    "negative_buffer_inner = potential_anchor.buffer(0.0005)\n",
    "negative_buffer_outer = potential_anchor.buffer(0.0025)\n",
    "\n",
    "negative_buffer_inner_frame = gpd.GeoDataFrame(geometry=[negative_buffer_inner])\n",
    "negative_buffer_outer_frame = gpd.GeoDataFrame(geometry=[negative_buffer_outer])\n",
    "\n",
    "negative_buffer = negative_buffer_outer.difference(negative_buffer_inner)\n",
    "negative_buffer_frame = gpd.GeoDataFrame(geometry=[negative_buffer])"
   ]
  },
  {
   "cell_type": "code",
   "execution_count": 47,
   "metadata": {},
   "outputs": [],
   "source": [
    "potential_negatives = images[images['geometry'].within(negative_buffer) & (images['year'] == potential_positives.iloc[2]['year']) & (images['month'] == potential_positives.iloc[2]['month'])]"
   ]
  },
  {
   "cell_type": "code",
   "execution_count": 48,
   "metadata": {},
   "outputs": [
    {
     "name": "stdout",
     "output_type": "stream",
     "text": [
      "User Guide: https://docs.kepler.gl/docs/keplergl-jupyter\n"
     ]
    },
    {
     "data": {
      "application/vnd.jupyter.widget-view+json": {
       "model_id": "b9fc08d400f14811b59ec9032c539b4e",
       "version_major": 2,
       "version_minor": 0
      },
      "text/plain": [
       "KeplerGl(data={'images': {'index': [0, 1, 2, 3, 4, 5, 6, 7, 8, 9, 10, 11, 12, 13, 14, 15, 16, 17, 18, 19, 20, …"
      ]
     },
     "metadata": {},
     "output_type": "display_data"
    }
   ],
   "source": [
    "map_1 = KeplerGl(height=600)\n",
    "map_1.add_data(data=images, name='images')\n",
    "map_1.add_data(data=potential_anchor_frame, name='potential anchor')\n",
    "map_1.add_data(data=buffer_polygon_frame, name='buffer polygon')\n",
    "map_1.add_data(data=potential_positives, name='potential positives')\n",
    "map_1.add_data(data=negative_buffer_frame, name='negative buffer')\n",
    "map_1.add_data(data=potential_negatives, name='potential negatives')\n",
    "map_1"
   ]
  }
 ],
 "metadata": {
  "kernelspec": {
   "display_name": "Python 3",
   "language": "python",
   "name": "python3"
  },
  "language_info": {
   "codemirror_mode": {
    "name": "ipython",
    "version": 3
   },
   "file_extension": ".py",
   "mimetype": "text/x-python",
   "name": "python",
   "nbconvert_exporter": "python",
   "pygments_lexer": "ipython3",
   "version": "3.11.5"
  }
 },
 "nbformat": 4,
 "nbformat_minor": 2
}
